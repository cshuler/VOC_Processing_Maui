{
 "cells": [
  {
   "cell_type": "markdown",
   "id": "bbf70452",
   "metadata": {},
   "source": [
    "# Lab Error Analysis"
   ]
  },
  {
   "cell_type": "code",
   "execution_count": 7,
   "id": "9ed8b638",
   "metadata": {},
   "outputs": [],
   "source": [
    "import pandas as pd\n",
    "import os\n",
    "import matplotlib.pyplot as plt\n",
    "import numpy as np\n",
    "from itertools import islice"
   ]
  },
  {
   "cell_type": "markdown",
   "id": "32e79ee7",
   "metadata": {},
   "source": [
    "Listing chemicals for analysis"
   ]
  },
  {
   "cell_type": "code",
   "execution_count": 3,
   "id": "e767902a",
   "metadata": {},
   "outputs": [],
   "source": [
    "specified_chemicals = [\"Chloromethane (methyl chloride)\", \"Chloroethene (vinyl chloride)\", \n",
    "    \"Bromomethane (methyl bromide)\", \"Chloroethane (ethyl chloride)\",\n",
    "    \"Trichlorofluoromethane\", \"Diethyl ether\", \"1,1-Dichloroethene\", \"Acetone\",\n",
    "    \"Iodomethane\", \"Carbon disulfide\", \"3-Chloropropene (allyl chloride)\",\n",
    "    \"Methylene chloride (DCM)\", \"trans-1,2-Dichloroethene\", \"Methyl tert-butyl ether (MTBE)\",\n",
    "    \"1,1-Dichloroethane\", \"2,2-Dichloropropane\", \"cis-1,2-Dichloroethene\", \"2-Butanone (MEK)\",\n",
    "    \"Methyl acrylate\", \"Methacrylonitrile\", \"Bromochloromethane\", \"Tetrahydrofuran\",\n",
    "    \"Trichloromethane (chloroform)\", \"1,1,1-Trichloroethane\", \"1-Chlorobutane (butyl chloride)\", \"Carbon tetrachloride\",\n",
    "    \"1,1-Dichloropropene\", \"Benzene\", \"1,2-Dichloroethane\",\n",
    "    \"Trichloroethene\", \"1,2-Dichloropropane\", \"Dibromomethane\", \"Methyl methacrylate\",\n",
    "    \"Bromodichloromethane\", \"2-Nitropropane\", \"cis-1,3-Dichloropropene\", \"4-Methyl-2-pentanone (MIBK)\", \"Toluene\", \"trans-1,3-Dichloropropene\", \"Ethyl methacrylate\",\n",
    "    \"1,1,2-Trichloroethane\", \"Tetrachloroethene\", \"1,3-Dichloropropane\", \"2-Hexanone\",\n",
    "    \"Dibromochloromethane\", \"1,2-Dibromoethane (EDB)\", \"Chlorobenzene\",\n",
    "    \"1,1,1,2-Tetrachloroethane\", \"Ethylbenzene\", \"m/p-Xylene\", \"o-Xylene\", \"Styrene\",\n",
    "    \"Bromoform\", \"Isopropylbenzene (cumene)\",\"Bromobenzene\", \"1,1,2,2-Tetrachloroethane\", \"1,2,3-Trichloropropane (TCP)\",\n",
    "    \"trans-1,4-Dichloro-2-butene\", \"n-Propylbenzene\", \"2-Chlorotoluene\", \"1,3,5-Trimethylbenzene\",\n",
    "    \"4-Chlorotoluene\", \"tert-Butylbenzene\", \"Pentachloroethane\", \"1,2,4-Trimethylbenzene\",\n",
    "    \"1-Methylpropylbenzene (sec-butylbenzene)\", \"1,3-Dichlorobenzene\", \"4-Isopropyltoluene (p-cymene)\", \"1,4-Dichlorobenzene\", \"n-Butylbenzene\", \"1,2-Dichlorobenzene\",\n",
    "    \"Hexachloroethane\", \"1,2-Dibromo-3-chloropropane (DBCP)\", \"Nitrobenzene\", \"1,2,4-Trichlorobenzene\",\n",
    "    \"Hexachloro-1,3-butadiene\", \"Naphthalene\", \"1,2,3-Trichlorobenzene\" \n",
    "] "
   ]
  },
  {
   "cell_type": "markdown",
   "id": "4b74c8b6",
   "metadata": {},
   "source": [
    "Defining the chemicals detected"
   ]
  },
  {
   "cell_type": "code",
   "execution_count": 4,
   "id": "812559b6",
   "metadata": {},
   "outputs": [],
   "source": [
    "detect_chemicals = [\"Bromoform\",\n",
    "\"Dibromochloromethane\",\n",
    "\"Bromodichloromethane\",\n",
    "\"Trichloromethane (chloroform)\",\n",
    "\"Tetrahydrofuran\",\n",
    "\"2-Butanone (MEK)\",\n",
    "\"Carbon disulfide\",\n",
    "\"Acetone\",\n",
    "\"Chloromethane (methyl chloride)\",\n",
    "\"Bromochloromethane\"\n",
    "]"
   ]
  },
  {
   "cell_type": "markdown",
   "id": "6de7afc3",
   "metadata": {},
   "source": [
    "# Data Ingestion"
   ]
  },
  {
   "cell_type": "code",
   "execution_count": 8,
   "id": "95d4f63a",
   "metadata": {},
   "outputs": [
    {
     "data": {
      "text/plain": [
       "{'231205_VOC.xlsx - CCV':                       Unnamed: 0 Unnamed: 1 Unnamed: 2 Unnamed: 3 Unnamed: 4  \\\n",
       " 0                            NaN         RT       Area    ICAL Rt  ICAL Area   \n",
       " 1       Pentafluorobenzene [IS1]       5.43     228338       5.43     235261   \n",
       " 2      1,4-Difluorobenzene [IS2]       6.17     354508       6.17     402712   \n",
       " 3         Chlorobenzene-d5 [IS3]       8.91     347493       8.92     387093   \n",
       " 4   1,4-Dichlorobenzene-d4 [IS4]      10.66     200989      10.67     214027   \n",
       " ..                           ...        ...        ...        ...        ...   \n",
       " 82                           NaN        NaN        NaN        NaN        NaN   \n",
       " 83                           NaN        NaN        NaN        NaN        NaN   \n",
       " 84                           NaN        NaN        NaN        NaN        NaN   \n",
       " 85                           NaN        NaN        NaN        NaN        NaN   \n",
       " 86                           NaN        NaN        NaN        NaN        NaN   \n",
       " \n",
       "    Unnamed: 5  Unnamed: 6  Unnamed: 7  Unnamed: 8  Unnamed: 9  ...  \\\n",
       " 0    Pass_RT?  Pass_Area?         NaN         NaN         NaN  ...   \n",
       " 1        True        True         NaN     % of TV  True Value  ...   \n",
       " 2        True        True         NaN   83.504996    6.666667  ...   \n",
       " 3        True        True         NaN   84.869996    6.666667  ...   \n",
       " 4        True        True         NaN  122.489994    6.666667  ...   \n",
       " ..        ...         ...         ...         ...         ...  ...   \n",
       " 82        NaN         NaN         NaN   72.164996    6.666667  ...   \n",
       " 83        NaN         NaN         NaN  101.264995    6.666667  ...   \n",
       " 84        NaN         NaN         NaN  109.844995    6.666667  ...   \n",
       " 85        NaN         NaN         NaN   94.649995    6.666667  ...   \n",
       " 86        NaN         NaN         NaN  103.154995    6.666667  ...   \n",
       " \n",
       "        Overall Ion Ratio            Quant. Ion          Conf. Ion #1  \\\n",
       " 0           Confirmation                   m/z                   m/z   \n",
       " 1   MS Quantitation Peak  MS Quantitation Peak  MS Quantitation Peak   \n",
       " 2              Confirmed                    50                    52   \n",
       " 3              Confirmed                    62                    64   \n",
       " 4              Confirmed                    94                    96   \n",
       " ..                   ...                   ...                   ...   \n",
       " 82             Confirmed                    77                    51   \n",
       " 83             Confirmed                   180                   182   \n",
       " 84             Confirmed                   225                   227   \n",
       " 85             Confirmed                   128                   127   \n",
       " 86             Confirmed                   180                   182   \n",
       " \n",
       "             Ion Ratio #1        Ion Ratio #1.1        Ion Ratio #1.2  \\\n",
       " 0             (Expected)            (Observed)         Within Window   \n",
       " 1   MS Quantitation Peak  MS Quantitation Peak  MS Quantitation Peak   \n",
       " 2                  33.55                 32.69             Confirmed   \n",
       " 3                  30.75                 32.68             Confirmed   \n",
       " 4                  92.32                 94.59             Confirmed   \n",
       " ..                   ...                   ...                   ...   \n",
       " 82                 50.85                 48.62             Confirmed   \n",
       " 83                 91.96                 94.75             Confirmed   \n",
       " 84                 63.04                 63.82             Confirmed   \n",
       " 85                 12.62                 12.35             Confirmed   \n",
       " 86                 95.23                 95.25             Confirmed   \n",
       " \n",
       "              Conf.Ion #2          Ion Ratio #2        Ion Ratio #2.1  \\\n",
       " 0                    m/z            (Expected)            (Observed)   \n",
       " 1   MS Quantitation Peak  MS Quantitation Peak  MS Quantitation Peak   \n",
       " 2                     49                  7.35                 10.18   \n",
       " 3                     61                  7.17                  7.55   \n",
       " 4                     93                 20.47                 19.92   \n",
       " ..                   ...                   ...                   ...   \n",
       " 82                   123                 44.34                 52.38   \n",
       " 83                   145                 32.28                 32.41   \n",
       " 84                   223                 62.64                 62.98   \n",
       " 85                   129                 10.39                 10.28   \n",
       " 86                   145                 34.02                 33.17   \n",
       " \n",
       "           Ion Ratio #2.2  \n",
       " 0          Within Window  \n",
       " 1   MS Quantitation Peak  \n",
       " 2              Confirmed  \n",
       " 3              Confirmed  \n",
       " 4              Confirmed  \n",
       " ..                   ...  \n",
       " 82             Confirmed  \n",
       " 83             Confirmed  \n",
       " 84             Confirmed  \n",
       " 85             Confirmed  \n",
       " 86             Confirmed  \n",
       " \n",
       " [87 rows x 26 columns],\n",
       " '230908_VOC.xlsx - CCV1':                           Peak Name Ret. Time       Area  Rel Area Amount   \\\n",
       " 0                               NaN       min  counts*min        %     ppb   \n",
       " 1   Chloromethane (methyl chloride)      1.99      211755     0.86   4.382   \n",
       " 2    Chloroethene (vinyl chloride)       2.14      236948     0.97   3.929   \n",
       " 3     Bromomethane (methyl bromide)      2.56      119605     0.49   4.847   \n",
       " 4     Chloroethane (ethyl chloride)      2.73      139169     0.57   4.221   \n",
       " ..                              ...       ...         ...      ...     ...   \n",
       " 81                     Nitrobenzene     21.03       11191     0.05   4.278   \n",
       " 82           1,2,4-Trichlorobenzene      21.6       93185     0.38   3.376   \n",
       " 83         Hexachloro-1,3-butadiene     21.73       30506     0.12   3.323   \n",
       " 84                      Naphthalene     21.82      229086     0.93   3.235   \n",
       " 85           1,2,3-Trichlorobenzene        22       91281     0.37   3.393   \n",
       " \n",
       "    Overall Ion Ratio Unnamed: 6 Unnamed: 7  Unnamed: 8 Unnamed: 9  \\\n",
       " 0       Confirmation       ICAL      Pass?  True Value      Pass?   \n",
       " 1          Confirmed      4.244       True           4       True   \n",
       " 2          Confirmed      4.212       True           4       True   \n",
       " 3          Confirmed      4.006      False           4      False   \n",
       " 4          Confirmed       4.22       True           4       True   \n",
       " ..               ...        ...        ...         ...        ...   \n",
       " 81         Confirmed      3.786       True           4       True   \n",
       " 82         Confirmed      3.509       True           4       True   \n",
       " 83         Confirmed      3.876       True           4       True   \n",
       " 84         Confirmed       3.38       True           4       True   \n",
       " 85         Confirmed      3.533       True           4       True   \n",
       " \n",
       "     Unnamed: 10                 Unnamed: 11     RT      Area  ICAL Rt  \\\n",
       " 0           NaN      IS1 Pentafluorobenzene   9.67  351073.0     9.66   \n",
       " 1           NaN     IS2 1,4-Difluorobenzene  10.99  528110.0    10.99   \n",
       " 2           NaN        IS3 Chlorobenzene-d5  15.26  481730.0    15.26   \n",
       " 3           NaN  IS4 1,4-Dichlorobenzene-d4  19.45  576242.0    19.45   \n",
       " 4           NaN                         NaN    NaN       NaN      NaN   \n",
       " ..          ...                         ...    ...       ...      ...   \n",
       " 81          NaN                         NaN    NaN       NaN      NaN   \n",
       " 82          NaN                         NaN    NaN       NaN      NaN   \n",
       " 83          NaN                         NaN    NaN       NaN      NaN   \n",
       " 84          NaN                         NaN    NaN       NaN      NaN   \n",
       " 85          NaN                         NaN    NaN       NaN      NaN   \n",
       " \n",
       "     ICAL Area  Pass_RT?  Pass_Area?  \n",
       " 0    384789.0       1.0         1.0  \n",
       " 1    584494.0       1.0         1.0  \n",
       " 2    534957.0       1.0         1.0  \n",
       " 3    680676.0       1.0         1.0  \n",
       " 4         NaN       NaN         NaN  \n",
       " ..        ...       ...         ...  \n",
       " 81        NaN       NaN         NaN  \n",
       " 82        NaN       NaN         NaN  \n",
       " 83        NaN       NaN         NaN  \n",
       " 84        NaN       NaN         NaN  \n",
       " 85        NaN       NaN         NaN  \n",
       " \n",
       " [86 rows x 18 columns]}"
      ]
     },
     "execution_count": 8,
     "metadata": {},
     "output_type": "execute_result"
    }
   ],
   "source": [
    "#Excel files and only VOCs\n",
    "raw_data_path = os.path.join(os.getcwd(),'Raw_data')\n",
    "files = os.listdir(raw_data_path)\n",
    "files_xls = [f for f in files if f.endswith('.xlsx') and 'SVOC' not in f] \n",
    "\n",
    "ccv_data = {} \n",
    "desired_sheets = ['CCV', 'CCV1', 'CCV2', 'CCV3', 'CCV4'] #We are only using these sheets for error analysis\n",
    "for file in files_xls:\n",
    "    file_path = os.path.join(raw_data_path, file)\n",
    "    xls = pd.ExcelFile(file_path)\n",
    "    for sheet_name in xls.sheet_names:\n",
    "        if sheet_name in desired_sheets:\n",
    "            df = pd.read_excel(file_path, sheet_name=sheet_name)\n",
    "            ccv_data[f'{file} - {sheet_name}'] = df\n",
    "dict(islice(ccv_data.items(), 0, 2))"
   ]
  },
  {
   "cell_type": "markdown",
   "id": "4b51d670",
   "metadata": {},
   "source": [
    "# Filter data"
   ]
  },
  {
   "cell_type": "code",
   "execution_count": 10,
   "id": "f8dba044",
   "metadata": {},
   "outputs": [
    {
     "name": "stdout",
     "output_type": "stream",
     "text": [
      "Warning: 'Amount' or 'Peak Name' columns not found in 231013_VOC.xlsx - CCV\n"
     ]
    }
   ],
   "source": [
    "filtered_ccv_data = {}\n",
    "for key, df in ccv_data.items():\n",
    "    df.columns = df.columns.str.strip()\n",
    "    if 'Amount' in df.columns and 'Peak Name' in df.columns: #We only want chemical name and amount\n",
    "        df['Amount'] = pd.to_numeric(df['Amount'], errors='coerce') \n",
    "        df['Peak Name'] = df['Peak Name'].str.strip()\n",
    "        filtered_ccv_data[key] = df[['Amount', 'Peak Name']]\n",
    "    else:\n",
    "        print(f\"Warning: 'Amount' or 'Peak Name' columns not found in {key}\")"
   ]
  },
  {
   "cell_type": "code",
   "execution_count": 11,
   "id": "e57e7e65",
   "metadata": {},
   "outputs": [
    {
     "name": "stderr",
     "output_type": "stream",
     "text": [
      "/var/folders/ft/rj1gvr1d3q7b_prdsnsxp8y40000gn/T/ipykernel_83923/1512551175.py:3: SettingWithCopyWarning: \n",
      "A value is trying to be set on a copy of a slice from a DataFrame.\n",
      "Try using .loc[row_indexer,col_indexer] = value instead\n",
      "\n",
      "See the caveats in the documentation: https://pandas.pydata.org/pandas-docs/stable/user_guide/indexing.html#returning-a-view-versus-a-copy\n",
      "  filtered_ccv_data[key]['Peak Name'] = filtered_ccv_data[key]['Peak Name'].replace('Methylene chloride', 'Methylene chloride (DCM)')\n"
     ]
    }
   ],
   "source": [
    "for key,df in filtered_ccv_data.items():\n",
    "  if 'Peak Name' in df.columns:\n",
    "        filtered_ccv_data[key]['Peak Name'] = filtered_ccv_data[key]['Peak Name'].replace('Methylene chloride', 'Methylene chloride (DCM)')\n",
    "        filtered_ccv_data[key] = df[df['Peak Name'].isin(detect_chemicals)] #can be specified chemicals\n",
    "#IF YOU WOULD LIKE TO RUN FOR ALL CHEMS: SWITCH ABOVE TO SPECIFIED_CHEMICALS\n",
    "#Clean names"
   ]
  },
  {
   "cell_type": "markdown",
   "id": "5535b0dc",
   "metadata": {},
   "source": [
    "# Relevant lab information:\n",
    "Initially it was 8/4 (ketones/others)\n",
    "Starting from 2023-09-12 the CCV was 18/10 (ketones/others)\n",
    "Starting from 2024 the CCV was 20/10 (ketones/others)\n",
    "\n",
    "First group:  230907_VOC,  230908\n",
    "Second group: 230912 to anything 24 \n",
    "Last group is anything that starts with 24\n",
    "\n",
    "Ketones end in \"one\", there are four:\n",
    " Acetone\n",
    " 2-Butanone (MEK)\n",
    " 4-Methyl-2-pentanone (MIBK)\n",
    " 2-Hexanone"
   ]
  },
  {
   "cell_type": "markdown",
   "id": "d1e1a2d8",
   "metadata": {},
   "source": [
    "## Compare observed and expected values"
   ]
  },
  {
   "cell_type": "code",
   "execution_count": 12,
   "id": "ab7770fb",
   "metadata": {},
   "outputs": [],
   "source": [
    "#I made .csvs for relevant lab information\n",
    "folder_path = os.path.join(os.getcwd(), 'Raw_data')\n",
    "csv_files = os.listdir(folder_path)\n",
    "def load_csv(csv_filename):\n",
    "    return pd.read_csv(os.path.join(folder_path, csv_filename))"
   ]
  },
  {
   "cell_type": "code",
   "execution_count": 13,
   "id": "f2d10622",
   "metadata": {},
   "outputs": [
    {
     "data": {
      "text/plain": [
       "{'231205_VOC.xlsx - CCV':    Amount_x                        Peak Name  Amount_y\n",
       " 0     5.567  Chloromethane (methyl chloride)        10\n",
       " 1    24.477                          Acetone        18\n",
       " 2     5.696                 Carbon disulfide        10\n",
       " 3    22.373                 2-Butanone (MEK)        18\n",
       " 4     5.869               Bromochloromethane        10\n",
       " 5     5.131                  Tetrahydrofuran        10\n",
       " 6     6.107    Trichloromethane (chloroform)        10\n",
       " 7     6.179             Bromodichloromethane        10\n",
       " 8     6.385             Dibromochloromethane        10\n",
       " 9     6.597                        Bromoform        10,\n",
       " '230908_VOC.xlsx - CCV1':    Amount_x                        Peak Name  Amount_y\n",
       " 0     4.382  Chloromethane (methyl chloride)         4\n",
       " 1     8.234                          Acetone         8\n",
       " 2     3.577                 Carbon disulfide         4\n",
       " 3     7.888                 2-Butanone (MEK)         8\n",
       " 4     4.178               Bromochloromethane         4\n",
       " 5     3.988                  Tetrahydrofuran         4\n",
       " 6     4.161    Trichloromethane (chloroform)         4\n",
       " 7     3.962             Bromodichloromethane         4\n",
       " 8     3.858             Dibromochloromethane         4\n",
       " 9     3.782                        Bromoform         4}"
      ]
     },
     "execution_count": 13,
     "metadata": {},
     "output_type": "execute_result"
    }
   ],
   "source": [
    "#Create comparison dictionaries\n",
    "comparison_results = {}\n",
    "\n",
    "for key, df_excel in filtered_ccv_data.items():\n",
    "    file_name = key.split(' - ')[0] \n",
    "    \n",
    "    # Group 1: Files that contain '230907_VOC' or '230907'\n",
    "    if '230907_VOC' in file_name or '230908_VOC' in file_name:\n",
    "        csv_filename = 'First_Group_CCV - Sheet1.csv'  \n",
    "        csv_data = load_csv(csv_filename)\n",
    "        comparison = pd.merge(df_excel, csv_data, how='left', on=['Peak Name'])\n",
    "        \n",
    "        comparison_results[key] = comparison\n",
    "    \n",
    "    # Group 2: Files that start with '230912' or files between '23' and '24'\n",
    "    elif '230912' in file_name or '23' in file_name:\n",
    "        csv_filename = 'Second_Group_CCV - Sheet1.csv' \n",
    "        csv_data = csv_data = load_csv(csv_filename)\n",
    "        comparison = pd.merge(df_excel, csv_data, how='left', on=['Peak Name'])\n",
    "       \n",
    "        comparison_results[key] = comparison\n",
    "    \n",
    "    #Group 3: 2024\n",
    "    elif file_name.startswith('24'):\n",
    "        csv_filename = 'Third_Group_CCV - Sheet1.csv'  \n",
    "        csv_data = csv_data = load_csv(csv_filename)\n",
    "        comparison = pd.merge(df_excel, csv_data, how='left', on=['Peak Name'])\n",
    "        comparison_results[key] = comparison\n",
    "dict(islice(comparison_results.items(), 0, 2))"
   ]
  },
  {
   "cell_type": "markdown",
   "id": "651b45e1",
   "metadata": {},
   "source": [
    "## Perform Error Metrics"
   ]
  },
  {
   "cell_type": "code",
   "execution_count": 14,
   "id": "2033b63c",
   "metadata": {},
   "outputs": [
    {
     "data": {
      "text/html": [
       "<div>\n",
       "<style scoped>\n",
       "    .dataframe tbody tr th:only-of-type {\n",
       "        vertical-align: middle;\n",
       "    }\n",
       "\n",
       "    .dataframe tbody tr th {\n",
       "        vertical-align: top;\n",
       "    }\n",
       "\n",
       "    .dataframe thead th {\n",
       "        text-align: right;\n",
       "    }\n",
       "</style>\n",
       "<table border=\"1\" class=\"dataframe\">\n",
       "  <thead>\n",
       "    <tr style=\"text-align: right;\">\n",
       "      <th></th>\n",
       "      <th>Chemical</th>\n",
       "      <th>Average Percent Difference</th>\n",
       "      <th>Standard Deviation</th>\n",
       "    </tr>\n",
       "  </thead>\n",
       "  <tbody>\n",
       "    <tr>\n",
       "      <th>0</th>\n",
       "      <td>2-Butanone (MEK)</td>\n",
       "      <td>7.981509</td>\n",
       "      <td>6.181219</td>\n",
       "    </tr>\n",
       "    <tr>\n",
       "      <th>1</th>\n",
       "      <td>Acetone</td>\n",
       "      <td>9.884857</td>\n",
       "      <td>8.087424</td>\n",
       "    </tr>\n",
       "    <tr>\n",
       "      <th>2</th>\n",
       "      <td>Bromochloromethane</td>\n",
       "      <td>8.472770</td>\n",
       "      <td>7.735007</td>\n",
       "    </tr>\n",
       "    <tr>\n",
       "      <th>3</th>\n",
       "      <td>Bromodichloromethane</td>\n",
       "      <td>10.686284</td>\n",
       "      <td>8.395141</td>\n",
       "    </tr>\n",
       "    <tr>\n",
       "      <th>4</th>\n",
       "      <td>Bromoform</td>\n",
       "      <td>12.288986</td>\n",
       "      <td>8.451499</td>\n",
       "    </tr>\n",
       "  </tbody>\n",
       "</table>\n",
       "</div>"
      ],
      "text/plain": [
       "               Chemical  Average Percent Difference  Standard Deviation\n",
       "0      2-Butanone (MEK)                    7.981509            6.181219\n",
       "1               Acetone                    9.884857            8.087424\n",
       "2    Bromochloromethane                    8.472770            7.735007\n",
       "3  Bromodichloromethane                   10.686284            8.395141\n",
       "4             Bromoform                   12.288986            8.451499"
      ]
     },
     "execution_count": 14,
     "metadata": {},
     "output_type": "execute_result"
    }
   ],
   "source": [
    "all_dfs=[]       \n",
    "for key,df in comparison_results.items(): #amount_x is observed and amount y is expected\n",
    "    df['Difference'] = df['Amount_x'] - df['Amount_y']\n",
    "    df['Percent Difference'] = (abs(df['Difference']) / df['Amount_y']) * 100\n",
    "    all_dfs.append(df[['Peak Name', 'Percent Difference']])\n",
    "    combined_df = pd.concat(all_dfs)\n",
    "avg_percent_diff_df = combined_df.groupby('Peak Name', as_index=False).agg(\n",
    "    avg_percent_diff=('Percent Difference', 'mean'),\n",
    "    std_percent_diff=('Percent Difference', 'std')  \n",
    ")\n",
    "\n",
    "avg_percent_diff_df.columns = ['Chemical', 'Average Percent Difference', 'Standard Deviation']\n",
    "avg_percent_diff_df.head(5)"
   ]
  },
  {
   "cell_type": "code",
   "execution_count": 16,
   "id": "9493b0ed",
   "metadata": {},
   "outputs": [
    {
     "data": {
      "image/png": "[encoded data removed]",
      "text/plain": [
       "<Figure size 1600x600 with 1 Axes>"
      ]
     },
     "metadata": {},
     "output_type": "display_data"
    }
   ],
   "source": [
    "fig, ax = plt.subplots(figsize=(16, 6))\n",
    "plt.bar(avg_percent_diff_df['Chemical'], avg_percent_diff_df['Average Percent Difference'])\n",
    "\n",
    "plt.title('Average Percent Error per Detcted Tap Water Chemicals', fontsize=16)\n",
    "plt.xlabel('Chemical', fontsize=14)\n",
    "plt.ylabel('Average Percent Error (%)', fontsize=14)\n",
    "\n",
    "plt.xticks(rotation=45, ha='right', fontsize=8)\n",
    "\n",
    "plt.tight_layout()\n",
    "plt.show()"
   ]
  },
  {
   "cell_type": "code",
   "execution_count": null,
   "id": "e1f85e6d",
   "metadata": {},
   "outputs": [],
   "source": []
  }
 ],
 "metadata": {
  "kernelspec": {
   "display_name": "Python 3 (ipykernel)",
   "language": "python",
   "name": "python3"
  },
  "language_info": {
   "codemirror_mode": {
    "name": "ipython",
    "version": 3
   },
   "file_extension": ".py",
   "mimetype": "text/x-python",
   "name": "python",
   "nbconvert_exporter": "python",
   "pygments_lexer": "ipython3",
   "version": "3.11.4"
  }
 },
 "nbformat": 4,
 "nbformat_minor": 5
}
